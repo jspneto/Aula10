{
 "cells": [
  {
   "cell_type": "code",
   "execution_count": 1,
   "metadata": {
    "collapsed": true
   },
   "outputs": [],
   "source": [
    "import numpy as np"
   ]
  },
  {
   "cell_type": "code",
   "execution_count": 35,
   "metadata": {
    "collapsed": false
   },
   "outputs": [
    {
     "name": "stdout",
     "output_type": "stream",
     "text": [
      "[[ 3.  2.  4.]\n",
      " [ 1.  1.  2.]\n",
      " [ 4.  3.  2.]]\n"
     ]
    }
   ],
   "source": [
    "A = np.matrix([[3.,2.,4.],[1.,1.,2.],[4.,3.,2.]])\n",
    "print(A)"
   ]
  },
  {
   "cell_type": "code",
   "execution_count": 36,
   "metadata": {
    "collapsed": false
   },
   "outputs": [
    {
     "name": "stdout",
     "output_type": "stream",
     "text": [
      "-4.0\n",
      "true\n"
     ]
    }
   ],
   "source": [
    "# Determinante de A:\n",
    "\n",
    "x = np.linalg.det(A)\n",
    "print(x)\n",
    "\n",
    "if x != 0:\n",
    "    print('true')"
   ]
  },
  {
   "cell_type": "code",
   "execution_count": 37,
   "metadata": {
    "collapsed": false
   },
   "outputs": [
    {
     "name": "stdout",
     "output_type": "stream",
     "text": [
      "[[ 1.          0.          0.        ]\n",
      " [-0.33333333  1.          0.        ]\n",
      " [-1.33333333  0.          1.        ]]\n"
     ]
    }
   ],
   "source": [
    "# Obtendo os multiplicadores M10 e M20\n",
    "\n",
    "M = np.zeros((3,3))\n",
    "\n",
    "M[1,0] = - A[1,0]/A[0,0]\n",
    "M[2,0] = - A[2,0]/A[0,0]\n",
    "\n",
    "for i in range(3):\n",
    "    M[i,i] = 1\n",
    "\n",
    "print(M)"
   ]
  },
  {
   "cell_type": "code",
   "execution_count": 52,
   "metadata": {
    "collapsed": false
   },
   "outputs": [
    {
     "name": "stdout",
     "output_type": "stream",
     "text": [
      "[[ 3.          2.          4.        ]\n",
      " [ 0.          0.33333333  0.66666667]\n",
      " [ 0.          0.33333333 -3.33333333]]\n"
     ]
    }
   ],
   "source": [
    "# Multiplicando M por A\n",
    "\n",
    "A1 = M*A\n",
    "\n",
    "print(A1)"
   ]
  },
  {
   "cell_type": "code",
   "execution_count": 51,
   "metadata": {
    "collapsed": false
   },
   "outputs": [
    {
     "name": "stdout",
     "output_type": "stream",
     "text": [
      "[[ 1.  0.  0.]\n",
      " [ 0.  1.  0.]\n",
      " [ 0. -1.  1.]]\n"
     ]
    }
   ],
   "source": [
    "# Obtendo o multiplicador M21\n",
    "\n",
    "N = np.zeros((3,3))\n",
    "\n",
    "N[2,1] = - P[2,1]/P[1,1]\n",
    "\n",
    "for i in range(3):\n",
    "    N[i,i] = 1\n",
    "    \n",
    "print(N)"
   ]
  },
  {
   "cell_type": "code",
   "execution_count": 53,
   "metadata": {
    "collapsed": false
   },
   "outputs": [
    {
     "name": "stdout",
     "output_type": "stream",
     "text": [
      "[[  3.00000000e+00   2.00000000e+00   4.00000000e+00]\n",
      " [  0.00000000e+00   3.33333333e-01   6.66666667e-01]\n",
      " [  0.00000000e+00   5.55111512e-17  -4.00000000e+00]]\n"
     ]
    }
   ],
   "source": [
    "# Multiplicando N por A1\n",
    "\n",
    "A2 = N*A1\n",
    "\n",
    "print(A2)"
   ]
  }
 ],
 "metadata": {
  "anaconda-cloud": {},
  "kernelspec": {
   "display_name": "Python [default]",
   "language": "python",
   "name": "python3"
  },
  "language_info": {
   "codemirror_mode": {
    "name": "ipython",
    "version": 3
   },
   "file_extension": ".py",
   "mimetype": "text/x-python",
   "name": "python",
   "nbconvert_exporter": "python",
   "pygments_lexer": "ipython3",
   "version": "3.5.2"
  }
 },
 "nbformat": 4,
 "nbformat_minor": 2
}
