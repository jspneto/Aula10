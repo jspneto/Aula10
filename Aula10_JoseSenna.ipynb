{
 "cells": [
  {
   "cell_type": "code",
   "execution_count": 1,
   "metadata": {
    "collapsed": true
   },
   "outputs": [],
   "source": [
    "import numpy as np"
   ]
  },
  {
   "cell_type": "code",
   "execution_count": 65,
   "metadata": {
    "collapsed": false
   },
   "outputs": [
    {
     "name": "stdout",
     "output_type": "stream",
     "text": [
      "[[ 3.  2.  4.]\n",
      " [ 1.  1.  2.]\n",
      " [ 4.  3.  2.]]\n"
     ]
    }
   ],
   "source": [
    "A = np.matrix([[3.,2.,4.],[1.,1.,2.],[4.,3.,2.]])\n",
    "print(A)"
   ]
  },
  {
   "cell_type": "code",
   "execution_count": 66,
   "metadata": {
    "collapsed": false
   },
   "outputs": [
    {
     "name": "stdout",
     "output_type": "stream",
     "text": [
      "-4.0\n",
      "true\n"
     ]
    }
   ],
   "source": [
    "# Determinante de A:\n",
    "\n",
    "x = np.linalg.det(A)\n",
    "print(x)\n",
    "\n",
    "if x != 0:\n",
    "    print('true')"
   ]
  },
  {
   "cell_type": "code",
   "execution_count": 74,
   "metadata": {
    "collapsed": false
   },
   "outputs": [
    {
     "name": "stdout",
     "output_type": "stream",
     "text": [
      "[[ 1.          0.          0.        ]\n",
      " [-0.33333333  1.          0.        ]\n",
      " [-1.33333333  0.          1.        ]]\n"
     ]
    }
   ],
   "source": [
    "# Obtendo o multiplicador M0\n",
    "\n",
    "M0 = np.zeros((3,3))\n",
    "\n",
    "M0[1,0] = - A[1,0]/A[0,0]\n",
    "M0[2,0] = - A[2,0]/A[0,0]\n",
    "\n",
    "for i in range(3):\n",
    "    M0[i,i] = 1\n",
    "\n",
    "print(M0)"
   ]
  },
  {
   "cell_type": "code",
   "execution_count": 75,
   "metadata": {
    "collapsed": false
   },
   "outputs": [
    {
     "name": "stdout",
     "output_type": "stream",
     "text": [
      "[[ 3.          2.          4.        ]\n",
      " [ 0.          0.33333333  0.66666667]\n",
      " [ 0.          0.33333333 -3.33333333]]\n"
     ]
    }
   ],
   "source": [
    "# Multiplicando M0 por A para obter A1\n",
    "\n",
    "A1 = M0*A\n",
    "\n",
    "print(A1)"
   ]
  },
  {
   "cell_type": "code",
   "execution_count": 76,
   "metadata": {
    "collapsed": false
   },
   "outputs": [
    {
     "name": "stdout",
     "output_type": "stream",
     "text": [
      "[[ 1.  0.  0.]\n",
      " [ 0.  1.  0.]\n",
      " [ 0. -1.  1.]]\n"
     ]
    }
   ],
   "source": [
    "# Obtendo o multiplicador M1\n",
    "\n",
    "M1 = np.zeros((3,3))\n",
    "\n",
    "M1[2,1] = - A1[2,1]/A1[1,1]\n",
    "\n",
    "for i in range(3):\n",
    "    M1[i,i] = 1\n",
    "    \n",
    "print(M1)"
   ]
  },
  {
   "cell_type": "code",
   "execution_count": 77,
   "metadata": {
    "collapsed": false
   },
   "outputs": [
    {
     "name": "stdout",
     "output_type": "stream",
     "text": [
      "[[  3.00000000e+00   2.00000000e+00   4.00000000e+00]\n",
      " [  0.00000000e+00   3.33333333e-01   6.66666667e-01]\n",
      " [  0.00000000e+00   5.55111512e-17  -4.00000000e+00]]\n"
     ]
    }
   ],
   "source": [
    "# Multiplicando M1 por A1 para obter A2\n",
    "\n",
    "A2 = M1*A1\n",
    "\n",
    "print(A2)"
   ]
  },
  {
   "cell_type": "code",
   "execution_count": 81,
   "metadata": {
    "collapsed": false
   },
   "outputs": [
    {
     "name": "stdout",
     "output_type": "stream",
     "text": [
      "[[  1.00000000e+00]\n",
      " [  1.66666667e+00]\n",
      " [ -4.44089210e-16]]\n"
     ]
    }
   ],
   "source": [
    "# Preparando o B para utilização\n",
    "\n",
    "b = np.matrix([[1],[2],[3]])\n",
    "\n",
    "b1 = M0*b\n",
    "b2 = M1*b1\n",
    "\n",
    "print(b2)"
   ]
  }
 ],
 "metadata": {
  "anaconda-cloud": {},
  "kernelspec": {
   "display_name": "Python [default]",
   "language": "python",
   "name": "python3"
  },
  "language_info": {
   "codemirror_mode": {
    "name": "ipython",
    "version": 3
   },
   "file_extension": ".py",
   "mimetype": "text/x-python",
   "name": "python",
   "nbconvert_exporter": "python",
   "pygments_lexer": "ipython3",
   "version": "3.5.2"
  }
 },
 "nbformat": 4,
 "nbformat_minor": 2
}
